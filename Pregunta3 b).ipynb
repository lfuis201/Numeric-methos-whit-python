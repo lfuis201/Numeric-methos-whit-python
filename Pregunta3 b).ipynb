{
 "cells": [
  {
   "cell_type": "markdown",
   "metadata": {},
   "source": [
    "Encuentre la primera raíz positiva de (5P)\n",
    "\n",
    "$f(x) = sin(x) − cos(1 + x2) − 1$\n",
    "\n",
    "\n",
    "en que x está en radianes. Para encontrar la raíz use el método\n",
    "\n",
    "b) de la secante con valores iniciales xi−1 = 0.5 y xi = 0.7 con una tolerancia de ERA < 0.001 %"
   ]
  },
  {
   "cell_type": "code",
   "execution_count": 5,
   "metadata": {},
   "outputs": [],
   "source": [
    "from math import *"
   ]
  },
  {
   "cell_type": "code",
   "execution_count": 6,
   "metadata": {},
   "outputs": [],
   "source": [
    "def f1(x):\n",
    "    aux= sin(x) - cos(1+2*x)-1\n",
    "    return aux\n",
    "# derivada de la función fx(x)\n",
    "def df1x(x):\n",
    "    aux=cos(x) + 2*sin(1+2*x)\n",
    "    return aux"
   ]
  },
  {
   "cell_type": "code",
   "execution_count": 7,
   "metadata": {},
   "outputs": [],
   "source": [
    "#%%\n",
    "# metodo de la secante\n",
    "# x0=x_(0)\n",
    "# x1=x_(1)\n",
    "# tol: tolerancia en porcentaje\n",
    "# Nmax: número de iteraciones\n",
    "# fx: función f(x) a encontrar la raíz\n",
    "def secante(x0,x1,Nmax,tol,fx):\n",
    "    ERA = 100\n",
    "    iter = 1\n",
    "    print(\"iter\", \" \", \"xk\", \" \", \"fx(xk)\", \" \", \"EA\", \" \", \"ERA\" )\n",
    "    while(ERA>tol):\n",
    "        # xk: genera la raiz\n",
    "        xk = x1 - (fx(x1)*(x1 - x0))/(fx(x1)-fx(x0))\n",
    "        iter = iter + 1\n",
    "        EA = abs(xk-x1)\n",
    "        ERA = abs((xk-x1)/xk)*100\n",
    "        x0 = x1\n",
    "        x1 = xk\n",
    "        if(iter > Nmax):\n",
    "            return\n",
    "        print(iter,\" \",round(xk,7),\" \",round(fx(xk),9),\" \",\n",
    "              round(EA,8), \" \", round(ERA,8) )\n",
    "    aux = abs(fx(xk))\n",
    "    return(xk,aux)   \n",
    "#------------------------------#\n",
    "#%%  "
   ]
  },
  {
   "cell_type": "markdown",
   "metadata": {},
   "source": [
    "ejecutando el programa"
   ]
  },
  {
   "cell_type": "code",
   "execution_count": 8,
   "metadata": {},
   "outputs": [
    {
     "name": "stdout",
     "output_type": "stream",
     "text": [
      "iter   xk   fx(xk)   EA   ERA\n",
      "2   0.5429709   0.009343283   0.15702912   28.92035745\n",
      "3   0.5390297   -0.000909643   0.00394116   0.73115785\n",
      "4   0.5393794   1.549e-06   0.00034966   0.06482652\n",
      "5   0.5393788   0.0   5.9e-07   0.00011024\n"
     ]
    },
    {
     "data": {
      "text/plain": [
       "(0.5393787886505891, 2.5510882295520787e-10)"
      ]
     },
     "execution_count": 8,
     "metadata": {},
     "output_type": "execute_result"
    }
   ],
   "source": [
    "secante(0.5,0.7,80,0.001,f1)"
   ]
  },
  {
   "cell_type": "markdown",
   "metadata": {},
   "source": [
    "0.5393787886505891 radianes"
   ]
  }
 ],
 "metadata": {
  "kernelspec": {
   "display_name": "Python 3 (ipykernel)",
   "language": "python",
   "name": "python3"
  },
  "language_info": {
   "codemirror_mode": {
    "name": "ipython",
    "version": 3
   },
   "file_extension": ".py",
   "mimetype": "text/x-python",
   "name": "python",
   "nbconvert_exporter": "python",
   "pygments_lexer": "ipython3",
   "version": "3.9.4"
  }
 },
 "nbformat": 4,
 "nbformat_minor": 4
}
