{
 "cells": [
  {
   "cell_type": "markdown",
   "metadata": {},
   "source": [
    "# pregunta 4\n",
    "\n",
    "Aplique el método de iteración de punto fijo para determinar una solución de (5P)\n",
    "\n",
    "$2 sin πx + x = 0$\n",
    "\n",
    "en [1, 2] hasta que ERA < 0.01 %. Use $x_0$ = 1"
   ]
  },
  {
   "cell_type": "markdown",
   "metadata": {},
   "source": [
    "$f(x)=2 sin πx + x$\n",
    "\n",
    "$g(x)=x$\n",
    "\n",
    "$x=2sinπx +2x$"
   ]
  },
  {
   "cell_type": "code",
   "execution_count": 3,
   "metadata": {},
   "outputs": [],
   "source": [
    "from math import *\n",
    "#=====================#\n",
    "# Programa Punto Fijo    \n",
    "# x0: punto inicial\n",
    "# xk: punto medio\n",
    "# gx: función a obtener la raiz\n",
    "# tol: tolerancia\n",
    "# ERA: error aproximado \n",
    "# nk: número máximo de iteraciones\n",
    "#     \n",
    "def puntofijo(fx,gx,x0,tol,nk):\n",
    "    print(\"iter\",\"x0\",\" \",\"xk\",\" \",\"ERA\", \" \", \"f(xk)\" )\n",
    "    for i in range(1,nk):\n",
    "        xk  = gx(x0)\n",
    "        ERA = 100*abs(xk-x0)/abs(xk) # xk diferente de cero\n",
    "        print(i, round(x0,6), \" \",round(xk,6), \" \", round(ERA,6),\" \", round(abs(fx(xk)),5) )\n",
    "        x0=xk # actualizando \n",
    "        if(ERA<tol):\n",
    "            break\n",
    "    aux = fx(xk) # función evaluada en la raíz aproximada\n",
    "    return(xk,aux)\n",
    "#================================#\n",
    "#%%    \n",
    "\n",
    "def fx(x):\n",
    "    aux= 2*sin(3.1416*x)\n",
    "    return aux\n",
    "\n",
    "\n",
    "def gx(x):\n",
    "    aux= 2*sin(3.1416*x)*2*x\n",
    "    return aux\n"
   ]
  },
  {
   "cell_type": "markdown",
   "metadata": {},
   "source": [
    "### Ejemplo: de las notas de aula 5.4"
   ]
  },
  {
   "cell_type": "markdown",
   "metadata": {},
   "source": [
    "Ejecuntado el programa "
   ]
  },
  {
   "cell_type": "code",
   "execution_count": 5,
   "metadata": {},
   "outputs": [
    {
     "name": "stdout",
     "output_type": "stream",
     "text": [
      "iter x0   xk   ERA   f(xk)\n",
      "1 1   -2.9e-05   3403122.605162   0.00018\n",
      "2 -2.9e-05   0.0   270903.301661   0.0\n"
     ]
    },
    {
     "data": {
      "text/plain": [
       "(1.0851286024324638e-08, 6.818080034803656e-08)"
      ]
     },
     "execution_count": 5,
     "metadata": {},
     "output_type": "execute_result"
    }
   ],
   "source": [
    "puntofijo(fx,gx,1,0.01,3)"
   ]
  }
 ],
 "metadata": {
  "kernelspec": {
   "display_name": "Python 3 (ipykernel)",
   "language": "python",
   "name": "python3"
  },
  "language_info": {
   "codemirror_mode": {
    "name": "ipython",
    "version": 3
   },
   "file_extension": ".py",
   "mimetype": "text/x-python",
   "name": "python",
   "nbconvert_exporter": "python",
   "pygments_lexer": "ipython3",
   "version": "3.9.4"
  }
 },
 "nbformat": 4,
 "nbformat_minor": 4
}
