{
 "cells": [
  {
   "cell_type": "markdown",
   "metadata": {},
   "source": [
    "La velocidad v de un paracaidista que cae está dada por  𝑣=𝑔𝑚𝑐(1−𝑒−(𝑐/𝑚)𝑡) \n",
    "\n",
    "donde g = 9.81 m/s2. Para un paracaidista con coeficiente de resistencia de c =15 kg/s. Calcule la masa m de modo que la velocidad sea v=35.7 m/s en t= 10 s, usando el método \n",
    "\n",
    "a) de bisección hasta que ERA < 0.001 % con un máximo de 80 iteraciones "
   ]
  },
  {
   "cell_type": "markdown",
   "metadata": {},
   "source": [
    "$f(x)=\\frac{9.81}{15}m(1-e^{-\\frac{150}{m}})-35.7=0$"
   ]
  },
  {
   "cell_type": "code",
   "execution_count": 5,
   "metadata": {},
   "outputs": [],
   "source": [
    "from math import *\n",
    "import numpy as np"
   ]
  },
  {
   "cell_type": "code",
   "execution_count": 6,
   "metadata": {},
   "outputs": [],
   "source": [
    "def f1(x):\n",
    "    exp=1/pow(2.71828,150/x)\n",
    "    ec=0.654*x*(1-exp)\n",
    "    aux=ec-35.7\n",
    "    return aux\n"
   ]
  },
  {
   "cell_type": "code",
   "execution_count": 7,
   "metadata": {},
   "outputs": [],
   "source": [
    "#%%\n",
    "# Programa Bisección    \n",
    "# a: limite inferior del intervalo\n",
    "# b: limete superior  del intervalo\n",
    "# ck: punto medio\n",
    "# fx: función a obtener la raiz\n",
    "# tol: tolerancia\n",
    "# ea: error aproximado    \n",
    "# ERA: error relativo aproximado (en %)        \n",
    "# nk: número de iteraciones\n",
    "def bisec(a,b,fx,tol,nk):\n",
    "    xk_old=b\n",
    "    print(\"iter\",\"a\",\" \",\"b\",\" \", \"xk\",\" \", \"f(xk)\",\" \", \"ERA\" )\n",
    "    for i in range(1,nk):\n",
    "        xk = (a+b)/2\n",
    "        ERA = 100*abs(xk - xk_old)/abs(xk) # error relativo aproximado\n",
    "        print(i,round(a,6),\" \",round(b,6),\" \",round(xk,6),\" \", abs(round(fx(xk),5)),\" \", round(ERA,5))\n",
    "        if(fx(a)*fx(xk)<0):\n",
    "            b=xk\n",
    "        else: a=xk\n",
    "        xk_old =xk\n",
    "        if(ERA<tol):\n",
    "            break\n",
    "#    xr=(a+b)/2 # raiz aproximada\n",
    "    aux = fx(xk) # función evaluada en la raíz\n",
    "    return(xk,aux)"
   ]
  },
  {
   "cell_type": "markdown",
   "metadata": {},
   "source": [
    "**Resultados** Para la funcion $f(x) = \\sin x - x^2$, considerando el intervalo $[0.1,1]$"
   ]
  },
  {
   "cell_type": "code",
   "execution_count": 8,
   "metadata": {},
   "outputs": [
    {
     "name": "stdout",
     "output_type": "stream",
     "text": [
      "iter a   b   xk   f(xk)   ERA\n",
      "1 59   60   59.5   0.08523   0.84034\n",
      "2 59   59.5   59.25   0.03218   0.42194\n",
      "3 59.25   59.5   59.375   0.02657   0.21053\n",
      "4 59.25   59.375   59.3125   0.00279   0.10537\n",
      "5 59.3125   59.375   59.34375   0.01189   0.05266\n",
      "6 59.3125   59.34375   59.328125   0.00455   0.02634\n",
      "7 59.3125   59.328125   59.320312   0.00088   0.01317\n",
      "8 59.3125   59.320312   59.316406   0.00096   0.00659\n"
     ]
    },
    {
     "data": {
      "text/plain": [
       "(59.31640625, -0.0009577776259419579)"
      ]
     },
     "execution_count": 8,
     "metadata": {},
     "output_type": "execute_result"
    }
   ],
   "source": [
    "bisec(59, 60, f1, 0.01, 80 )         "
   ]
  }
 ],
 "metadata": {
  "kernelspec": {
   "display_name": "Python 3 (ipykernel)",
   "language": "python",
   "name": "python3"
  },
  "language_info": {
   "codemirror_mode": {
    "name": "ipython",
    "version": 3
   },
   "file_extension": ".py",
   "mimetype": "text/x-python",
   "name": "python",
   "nbconvert_exporter": "python",
   "pygments_lexer": "ipython3",
   "version": "3.9.4"
  }
 },
 "nbformat": 4,
 "nbformat_minor": 4
}
