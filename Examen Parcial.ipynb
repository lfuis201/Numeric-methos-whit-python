{
 "cells": [
  {
   "cell_type": "markdown",
   "metadata": {},
   "source": [
    "# ejercicio 1\n"
   ]
  },
  {
   "cell_type": "markdown",
   "metadata": {},
   "source": [
    "$F=\\frac{1}{4\\pi e_{0}} \\frac{qQx}{(x^{2}+a^{2})^{3/2}}$"
   ]
  },
  {
   "cell_type": "markdown",
   "metadata": {},
   "source": [
    "Donde $e_{0}=8.85×10^{-12} C^{2}/Nm^{2}$ . Encuentre la distancia  x   donde la fuerza es de 1 N, si q y Q son $2×10^{-5}C$ para un anillo con un radio de $a=0.9 m$.  Usando los métodos\n",
    "\n",
    "Bisección\n",
    "\n",
    "Falsa posición. \n",
    "\n",
    "Newton\n",
    "\n",
    "Secante\n",
    "\n",
    "Para todos los incisos considere una tolerancia de 0.001% o el número de iteraciones no supere a 100. \n",
    "Para los métodos que usan intervalos considerar intervalos iniciales a ±0.1 de la raíz. \n"
   ]
  },
  {
   "cell_type": "markdown",
   "metadata": {},
   "source": [
    "resolviendo la ecuacion\n"
   ]
  },
  {
   "cell_type": "markdown",
   "metadata": {},
   "source": [
    "$1=\\frac{1}{4\\pi (8.885 * 10^{-12})} \\frac{(2×10^{-5})(2×10^{-5})x}{(x^{2}+0.9^{2})^{3/2}}$\n",
    "\n",
    "$1=\\frac{1}{4\\pi (8.885 * 10^{-12})} \\frac{(4×10^{-10})x}{(x^{2}+0.9^{2})^{3/2}}$\n",
    "\n",
    "$1=\\frac{1}{\\pi (8.885)} \\frac{(10^{2})x}{(x^{2}+0.9^{2})^{3/2}}$\n",
    "\n",
    "$1=0.035.96.72 \\frac{100x}{(x^{2}+0.9^{2})^{3/2}}$\n",
    "\n",
    "$1=\\frac{3.59672x}{(x^{2}+0.9^{2})^{3/2}}$"
   ]
  },
  {
   "cell_type": "markdown",
   "metadata": {},
   "source": [
    "metodo de la biseccion"
   ]
  },
  {
   "cell_type": "code",
   "execution_count": 70,
   "metadata": {},
   "outputs": [],
   "source": [
    "#definiomos la funcion\n",
    "def f1(x):\n",
    "    aux=(3.59672*x)/((x**2+0.81)**3/2) -1\n",
    "    return (aux)\n",
    "#%%"
   ]
  },
  {
   "cell_type": "markdown",
   "metadata": {},
   "source": [
    "\n",
    "como se ve en el grafico existe una raíz en el intervalo  [0.221; 1.5 ]."
   ]
  },
  {
   "cell_type": "code",
   "execution_count": 65,
   "metadata": {},
   "outputs": [],
   "source": [
    "# Programa Bisección    \n",
    "# a: limite inferior del intervalo\n",
    "# b: limete superior  del intervalo\n",
    "# ck: punto medio\n",
    "# fx: función a obtener la raiz\n",
    "# tol: tolerancia\n",
    "# ea: error aproximado    \n",
    "# ERA: error relativo aproximado (en %)        \n",
    "# nk: número de iteraciones\n",
    "from math import *\n",
    "import numpy as np\n",
    "def bisec(a,b,fx,tol,nk):\n",
    "    xk_old=b\n",
    "    print(\"iter\",\"a\",\" \",\"b\",\" \", \"xk\",\" \", \"f(xk)\",\" \", \"ERA\" )\n",
    "    for i in range(1,nk):\n",
    "        xk = (a+b)/2\n",
    "        ERA = 100*abs(xk - xk_old)/abs(xk) # error relativo aproximado\n",
    "        print(i,round(a,6),\" \",round(b,6),\" \",round(xk,6),\" \", abs(round(fx(xk),5)),\" \", round(ERA,5))\n",
    "        if(fx(a)*fx(xk)<0):\n",
    "            b=xk\n",
    "        else: a=xk\n",
    "        xk_old =xk\n",
    "        if(ERA<tol):\n",
    "            break\n",
    "#    xr=(a+b)/2 # raiz aproximada\n",
    "    aux = fx(xk) # función evaluada en la raíz\n",
    "    return(xk,aux)"
   ]
  },
  {
   "cell_type": "code",
   "execution_count": 71,
   "metadata": {},
   "outputs": [
    {
     "name": "stdout",
     "output_type": "stream",
     "text": [
      "iter a   b   xk   f(xk)   ERA\n",
      "1 0.221   1.5   0.8605   0.66076   74.31726\n",
      "2 0.8605   1.5   1.18025   0.2059   27.09172\n",
      "3 0.8605   1.18025   1.020375   0.15707   15.66826\n",
      "4 1.020375   1.18025   1.100313   0.0407   7.26498\n",
      "5 1.020375   1.100313   1.060344   0.05388   3.76941\n",
      "6 1.060344   1.100313   1.080328   0.00554   1.84984\n",
      "7 1.080328   1.100313   1.09032   0.01784   0.91645\n",
      "8 1.080328   1.09032   1.085324   0.00621   0.46033\n",
      "9 1.080328   1.085324   1.082826   0.00035   0.2307\n",
      "10 1.080328   1.082826   1.081577   0.00259   0.11548\n",
      "11 1.081577   1.082826   1.082202   0.00112   0.05771\n",
      "12 1.082202   1.082826   1.082514   0.00038   0.02885\n",
      "13 1.082514   1.082826   1.08267   2e-05   0.01442\n",
      "14 1.08267   1.082826   1.082748   0.00017   0.00721\n",
      "15 1.08267   1.082748   1.082709   8e-05   0.00361\n",
      "16 1.08267   1.082709   1.08269   3e-05   0.0018\n",
      "17 1.08267   1.08269   1.08268   1e-05   0.0009\n"
     ]
    },
    {
     "data": {
      "text/plain": [
       "(1.0826798019409178, -6.521856217189814e-06)"
      ]
     },
     "execution_count": 71,
     "metadata": {},
     "output_type": "execute_result"
    }
   ],
   "source": [
    "bisec(0.221,1.5,f1, 0.001,40 )"
   ]
  },
  {
   "cell_type": "markdown",
   "metadata": {},
   "source": [
    "metodo de falsa posicion"
   ]
  },
  {
   "cell_type": "code",
   "execution_count": 72,
   "metadata": {},
   "outputs": [],
   "source": [
    "#=====================#\n",
    "# a: limite inferior del intervalo\n",
    "# b: limete superior  del intervalo\n",
    "# fx: función a obtener la raiz\n",
    "# nk: número de iteraciones    \n",
    "# tol: tolerancia (en %)\n",
    "# ERA: error relativo aproximado\n",
    "def falsa_posi(a,b,fx,nk,tol):\n",
    "    print(\"iter\",\"a\",\" \",\"b\",\" \", \"xi\",\" \",\"f(ck)\",\" \", \"E_RA\")\n",
    "    x0 = b\n",
    "    for i in range(0,nk):\n",
    "        xi = (a*fx(b) - b*fx(a))/(fx(b) - fx(a))\n",
    "        ERA = 100*abs(xi - x0)/abs(xi) # error relativo aproximado\n",
    "        print(i+1,round(a,6),\" \",round(b,6),\" \",round(xi,6),\" \", \n",
    "              abs(round(fx(xi),7)),\" \",round(ERA,5))        \n",
    "        if(fx(a)*fx(xi)<0):\n",
    "            b=xi\n",
    "        else: a=xi\n",
    "        x0=xi\n",
    "        if(ERA<tol):\n",
    "            break\n",
    "    aux = fx(xi)\n",
    "    return(xi,aux)\n",
    "#%%"
   ]
  },
  {
   "cell_type": "code",
   "execution_count": 73,
   "metadata": {},
   "outputs": [
    {
     "name": "stdout",
     "output_type": "stream",
     "text": [
      "iter a   b   xi   f(ck)   E_RA\n",
      "1 0.221   1.5   1.126174   0.0975192   33.19439\n",
      "2 0.221   1.126174   1.071245   0.0272495   5.12751\n",
      "3 1.071245   1.126174   1.083242   0.0013281   1.10745\n",
      "4 1.071245   1.083242   1.082684   1.68e-05   0.05149\n",
      "5 1.071245   1.082684   1.082677   2e-07   0.00065\n"
     ]
    },
    {
     "data": {
      "text/plain": [
       "(1.0826771209832113, -2.1203068822917004e-07)"
      ]
     },
     "execution_count": 73,
     "metadata": {},
     "output_type": "execute_result"
    }
   ],
   "source": [
    "falsa_posi(0.221, 1.5, f1, 40, 0.001)"
   ]
  },
  {
   "cell_type": "markdown",
   "metadata": {},
   "source": [
    "metodo newton"
   ]
  },
  {
   "cell_type": "code",
   "execution_count": 74,
   "metadata": {},
   "outputs": [],
   "source": [
    "# metodo de N-R\n",
    "# x0: raiz inicial\n",
    "# Nmax: número de iteraciones máxima    \n",
    "# tol: tolerancia (ERA)\n",
    "# fx: función a encontrar la raíz     \n",
    "# dfx: derivada de la función fx    \n",
    "# NOTA: la función evaluada en la raíz aproximada, fx(xk),\n",
    "#       es mostrada en  valor absoluto\n",
    "def newtonr(x0,Nmax,tol,fx,dfx):\n",
    "    ERA = 100\n",
    "    iter = 0\n",
    "    print(\"iter\", \" \", \"xk\", \" \", \"fx(xk)\", \" \", \"EA\", \" \", \"ERA\" )\n",
    "    while(ERA>tol):\n",
    "        xk = x0 - ( fx(x0)/dfx(x0) )\n",
    "        iter= iter + 1\n",
    "        EA = abs(xk-x0)\n",
    "        ERA= 100*(EA/abs(xk))\n",
    "        x0 = xk\n",
    "        if(iter > Nmax):\n",
    "            return\n",
    "        print( iter,\" \",round(xk,7),\" \",round(abs(fx(xk)),8),\" \", round(EA,8), \n",
    "              \" \", round(ERA,8) ) \n",
    "    aux = abs(fx(xk))\n",
    "    return(xk,aux)        \n",
    "      \n",
    "#%%"
   ]
  },
  {
   "cell_type": "code",
   "execution_count": 76,
   "metadata": {},
   "outputs": [],
   "source": [
    "#derivada de la funcion\n",
    "def df2x(x):\n",
    "    aux=(-17983600*x**2 +7283358)/(25*(100*x**2+81*x)**(1/2)*(100*x**2+81)**2)\n",
    "    return aux"
   ]
  },
  {
   "cell_type": "code",
   "execution_count": 77,
   "metadata": {},
   "outputs": [
    {
     "name": "stdout",
     "output_type": "stream",
     "text": [
      "iter   xk   fx(xk)   EA   ERA\n",
      "1   0.013552   0.81668832   0.20744798   1530.75350901\n",
      "2   0.0330001   0.55511686   0.01944805   58.93336825\n",
      "3   0.0539639   0.27738147   0.02096382   38.84786395\n",
      "4   0.0676477   0.09968526   0.01368379   20.22802604\n",
      "5   0.073243   0.02804255   0.00559531   7.63938458\n",
      "6   0.0748925   0.00704657   0.00164947   2.20244766\n",
      "7   0.0753125   0.00170945   0.00042002   0.55770391\n",
      "8   0.0754147   0.00041094   0.00010224   0.1355644\n",
      "9   0.0754393   9.857e-05   2.46e-05   0.03260435\n",
      "10   0.0754452   2.363e-05   5.9e-06   0.00782127\n",
      "11   0.0754466   5.66e-06   1.41e-06   0.00187502\n",
      "12   0.075447   1.36e-06   3.4e-07   0.00044944\n"
     ]
    },
    {
     "data": {
      "text/plain": [
       "(0.0754469668379987, 1.3575382096231436e-06)"
      ]
     },
     "execution_count": 77,
     "metadata": {},
     "output_type": "execute_result"
    }
   ],
   "source": [
    "newtonr( 0.221, 80, 0.001, f1, df2x )"
   ]
  },
  {
   "cell_type": "markdown",
   "metadata": {},
   "source": [
    "metodo de la secante"
   ]
  },
  {
   "cell_type": "code",
   "execution_count": 78,
   "metadata": {},
   "outputs": [],
   "source": [
    "#%%\n",
    "# metodo de la secante\n",
    "# x0=x_(0)\n",
    "# x1=x_(1)\n",
    "# tol: tolerancia en porcentaje\n",
    "# Nmax: número de iteraciones\n",
    "# fx: función f(x) a encontrar la raíz\n",
    "def secante(x0,x1,Nmax,tol,fx):\n",
    "    ERA = 100\n",
    "    iter = 1\n",
    "    print(\"iter\", \" \", \"xk\", \" \", \"fx(xk)\", \" \", \"EA\", \" \", \"ERA\" )\n",
    "    while(ERA>tol):\n",
    "        # xk: genera la raiz\n",
    "        xk = x1 - (fx(x1)*(x1 - x0))/(fx(x1)-fx(x0))\n",
    "        iter = iter + 1\n",
    "        EA = abs(xk-x1)\n",
    "        ERA = abs((xk-x1)/xk)*100\n",
    "        x0 = x1\n",
    "        x1 = xk\n",
    "        if(iter > Nmax):\n",
    "            return\n",
    "        print(iter,\" \",round(xk,7),\" \",round(fx(xk),9),\" \",\n",
    "              round(EA,8), \" \", round(ERA,8) )\n",
    "    aux = abs(fx(xk))\n",
    "    return(xk,aux)   \n",
    "#------------------------------#"
   ]
  },
  {
   "cell_type": "code",
   "execution_count": 79,
   "metadata": {},
   "outputs": [
    {
     "name": "stdout",
     "output_type": "stream",
     "text": [
      "iter   xk   fx(xk)   EA   ERA\n",
      "2   1.1261736   -0.09751917   0.37382643   33.19438827\n",
      "3   1.0568532   0.062545589   0.06932034   6.55912654\n",
      "4   1.0839403   -0.002968973   0.02708705   2.49894269\n",
      "5   1.0827128   -8.4073e-05   0.00122752   0.11337486\n",
      "6   1.082677   1.18e-07   3.577e-05   0.00330411\n",
      "7   1.082677   -0.0   5e-08   4.64e-06\n"
     ]
    },
    {
     "data": {
      "text/plain": [
       "(1.0826770308965776, 4.704570066849101e-12)"
      ]
     },
     "execution_count": 79,
     "metadata": {},
     "output_type": "execute_result"
    }
   ],
   "source": [
    "secante(0.221, 1.5, 80,0.001,f1)"
   ]
  },
  {
   "cell_type": "markdown",
   "metadata": {},
   "source": [
    "# ejecrcicio 2"
   ]
  },
  {
   "cell_type": "markdown",
   "metadata": {},
   "source": [
    "Determine las raíces de las siguientes ecuaciones no lineales  por medio del Newton-Raphson (5 puntos)\n",
    "\n",
    "Utilice el  valor inicial de $x_{0}=(0,1,1)^{2}$  e haga iteraciones hasta que $‖x_{k-1}-xk‖_{\\infty\n",
    "}<10-6$. Compruebe sus resultados, esto es, reemplace la solución encontrada en el sistema de ecuaciones y verifique la igualdad."
   ]
  },
  {
   "cell_type": "markdown",
   "metadata": {},
   "source": [
    "$xy-cos ( x)+z^{2}-3.6=0$\n",
    "\n",
    "$x^{2}-2y^{2}+z-2.8 =0$\n",
    "\n",
    "$3x+ysin ( z)-2.8 = 0$\n"
   ]
  },
  {
   "cell_type": "markdown",
   "metadata": {},
   "source": [
    "cargando las librerias "
   ]
  },
  {
   "cell_type": "code",
   "execution_count": 1,
   "metadata": {},
   "outputs": [],
   "source": [
    "from math import *\n",
    "import numpy as np\n",
    "from numpy.linalg import inv\n",
    "from numpy.linalg import det"
   ]
  },
  {
   "cell_type": "code",
   "execution_count": 2,
   "metadata": {},
   "outputs": [],
   "source": [
    "# NORMA INFINITO\n",
    "def infvector(x):\n",
    "    norma=max(abs(x))\n",
    "    return(norma)"
   ]
  },
  {
   "cell_type": "code",
   "execution_count": 3,
   "metadata": {},
   "outputs": [],
   "source": [
    "#%%\n",
    "# METODO DE NEWTON-RAPHSON PARA SISTEMAS DE ECCUAIONES NO LINEALES    \n",
    "# Fx: Sistema de ecuaciones no lineales. Es un vector\n",
    "# JFx: Matriz jacobiana\n",
    "# x0 vector inicial \n",
    "# imax: iteraciones maximas\n",
    "# tol: tolerancia para la norma infinito\n",
    "#---------------------#\n",
    "def newton_jacob(Fx, JFx, x0, imax, tol):\n",
    "    EA=10\n",
    "    iter=0\n",
    "    print(\"itera\",\" xk\", \"error aprox\", \"verificacion\")\n",
    "    while(EA>tol):\n",
    "        xk = x0 - inv( JFx(x0)).dot(Fx(x0))\n",
    "        iter = iter + 1\n",
    "        difk = xk - x0\n",
    "        #print(difk)\n",
    "        EA = infvector(difk)\n",
    "        x0 = xk\n",
    "        if(iter>imax):\n",
    "            return\n",
    "        print( iter,\" | \",xk,\" | \",EA,\" | \", Fx(xk) )\n",
    "#        print(xk)\n",
    "\n"
   ]
  },
  {
   "cell_type": "code",
   "execution_count": 28,
   "metadata": {},
   "outputs": [],
   "source": [
    "# VECTOR \n",
    "# función F(x,y,z) = ( f1(x,y,z), f2(x,y,z), f3(x,y,z) ) =  (0,0,0)\n",
    "def F_sis(xvec):\n",
    "    x=xvec[0] \n",
    "    y=xvec[1] \n",
    "    z=xvec[2]\n",
    "    Fx = np.array([0.0, 0.0, 0.0])\n",
    "    Fx[0] = x*y - cos(x) + z**2\n",
    "    Fx[1] = x**2 -2*y**2 + z\n",
    "    Fx[2] = 3*x + y*sin(z)\n",
    "    return(Fx)"
   ]
  },
  {
   "cell_type": "code",
   "execution_count": 29,
   "metadata": {},
   "outputs": [],
   "source": [
    "#==============#\n",
    "# matriz jacobiana\n",
    "def Jxy(xvec):\n",
    "    x=xvec[0]\n",
    "    y=xvec[1]\n",
    "    z=xvec[2]\n",
    "    jaco = np.zeros((3,3))\n",
    "    jaco[0,0] = y + sin(x) \n",
    "    jaco[1,0] = 2*x\n",
    "    jaco[2,0] = 3\n",
    "    jaco[0,1] = x \n",
    "    jaco[1,1] = -4*y\n",
    "    jaco[2,1] = sin(z)\n",
    "    jaco[0,2] = 2*z\n",
    "    jaco[1,2] = 1\n",
    "    jaco[2,2] = y*cos(z)\n",
    "    return(jaco)\n",
    "#=================#"
   ]
  },
  {
   "cell_type": "code",
   "execution_count": 37,
   "metadata": {},
   "outputs": [
    {
     "data": {
      "text/plain": [
       "array([[  3.14112001,   3.        ,   6.        ],\n",
       "       [  6.        , -12.        ,   1.        ],\n",
       "       [  3.        ,   0.14112001,  -2.96997749]])"
      ]
     },
     "execution_count": 37,
     "metadata": {},
     "output_type": "execute_result"
    }
   ],
   "source": [
    "F_sis( np.array([3,3,3]) )\n",
    "Jxy( np.array([3,3,3]) )"
   ]
  },
  {
   "cell_type": "code",
   "execution_count": 38,
   "metadata": {},
   "outputs": [
    {
     "name": "stdout",
     "output_type": "stream",
     "text": [
      "itera  xk error aprox verificacion\n",
      "1  |  [-0.24045097  0.78005637  1.12022548]  |  0.24045096988228098  |  [ 0.09610915 -0.03893373 -0.01914721]\n",
      "2  |  [-0.21848435  0.74762652  1.06853456]  |  0.05169092864761948  |  [ 0.00219431 -0.00162086 -0.00016143]\n",
      "3  |  [-0.21797646  0.74658931  1.06727556]  |  0.0012589928867761113  |  [ 1.18418963e-06 -1.89365770e-06  1.10144217e-07]\n",
      "4  |  [-0.21797614  0.74658838  1.06727483]  |  9.250462260634862e-07  |  [ 2.84883228e-13 -1.60849112e-12  1.51545443e-13]\n"
     ]
    }
   ],
   "source": [
    "#punto inicial \n",
    "x0=np.array([0,1,1])\n",
    "tol=0.000001\n",
    "Nmax=80\n",
    "##\n",
    "newton_jacob(F_sis, Jxy, x0, Nmax, tol)"
   ]
  },
  {
   "cell_type": "markdown",
   "metadata": {},
   "source": [
    "# ejercicio 3"
   ]
  },
  {
   "cell_type": "markdown",
   "metadata": {},
   "source": [
    "Halle la solución del sistema (5 puntos)\n"
   ]
  },
  {
   "cell_type": "markdown",
   "metadata": {},
   "source": [
    "\\begin{equation}\n",
    "\\begin{bmatrix}\n",
    "-2 & -1 & 0 & 0\\\\\n",
    "0 & 0 & -1 & 1\\\\\n",
    "0 & -1 & 2 & -1\\\\\n",
    "-1 & 2 & -1 & 0\n",
    "\\end{bmatrix}\n",
    "\\quad\n",
    "\\begin{bmatrix}\n",
    "x_{1} \\\\\n",
    "x_{2} \\\\\n",
    "x_{3} \\\\\n",
    "x_{4} \n",
    "\\end{bmatrix}\n",
    "=\\begin{bmatrix}\n",
    "1 \\\\\n",
    "0 \\\\\n",
    "0 \\\\\n",
    "0  \n",
    "\\end{bmatrix}\n",
    "\\end{equation}"
   ]
  },
  {
   "cell_type": "markdown",
   "metadata": {},
   "source": [
    "Resuelva el sistema por:\n",
    "    \n",
    "Eliminación gaussiana \n",
    "\n",
    "Descomposición LU\n",
    "\n",
    "Sustituya la solución obtenida en el sistema de ecuaciones para verificar su resultado.\n"
   ]
  },
  {
   "cell_type": "code",
   "execution_count": 53,
   "metadata": {},
   "outputs": [],
   "source": [
    "A = np.array([[-2.0,-1,0 ,0.0 ],[0.0, 0.0, -1.0, 1.0],[0.0, -1.0, 2.0, -1.0],[-1.0, 2.0, -1.0, 0.0]])\n",
    "b = np.array([[1.0],[0.0],[0.0],[0.0]])"
   ]
  },
  {
   "cell_type": "code",
   "execution_count": 54,
   "metadata": {},
   "outputs": [],
   "source": [
    "# Solución del sistema Ax=b por medio de facotización LU\n",
    "# Para la factorización LU se considera el método de Doolittle\n",
    "\n",
    "import numpy as np\n",
    "#\n",
    "def LU_gauss_sistem(A,b):\n",
    "    # renombrando\n",
    "    A1=A.copy(); b1=b.copy()\n",
    "    # dimension de la matriz\n",
    "    n = len(A1) \n",
    "  # fase de eliminación\n",
    "  # j: columnas -- i: filas\n",
    "# MATRIZ L\n",
    "    L = np.identity(n)  \n",
    "#------- FASE DE ELIMINACIÓN -------------#  \n",
    "  # se inicia con las columnas\n",
    "    for j in range(0,n-1):\n",
    "        for i in range(j+1,n):\n",
    "            # condicion del pivote diferente de cero \n",
    "            # A[i,j] -> fila posterior a la primera fila\n",
    "           if A1[i,j]!= 0.0:\n",
    "               factor = A1[i,j]/A1[j,j] # A[j,j]-> diagonal pivote\n",
    "               # F2 = F2 - factor*F1\n",
    "#               A[i,(j+1):n] = A[i,(j+1):n] - factor*A[j,(j+1):n]\n",
    "               A1[i,j:n] = A1[i,j:n] - factor*A1[j,j:n]\n",
    "               if i>j:\n",
    "                   L[i,j] = factor\n",
    "    U=A1\n",
    "    print(\"--------------------------------\")\n",
    "    print(\"matriz triangular inferior --> L\")\n",
    "    print(L)\n",
    "    print(\"--------------------------------\")    \n",
    "    print(\"matriz triangular superior --> U\")    \n",
    "    print(U)\n",
    "    print(\"--------------------------------\")    \n",
    "    print(\"verificacion --> A=LU\")\n",
    "    print(L@U)\n",
    "#------- SUSTITUCION HACIA ADELANTE -------------#    \n",
    "# Ly=b\n",
    "    ys=np.zeros(n) #-> vector solucion y's\n",
    "    ys[0]=b1[0]    \n",
    "    for ix in range(1,n):\n",
    "        suma=0\n",
    "        for jx in range(0,ix):\n",
    "            suma = suma + L[ix,jx]*ys[jx]\n",
    "        ys[ix]=b1[ix] - suma\n",
    "#    print(ys)\n",
    "#------- SUSTITUCION HACIA ATRAS -------------#    \n",
    "#   Ux=y    \n",
    "    xs=np.zeros(n) #-> vector solucion x's\n",
    "    xs[(n-1)]=ys[(n-1)]/U[(n-1),(n-1)]\n",
    "    for ix in reversed(range(n-1)):\n",
    "        suma=0\n",
    "        for jx in range(ix,n):\n",
    "            suma = suma + U[ix,jx]*xs[jx]\n",
    "        xs[ix]=(ys[ix]-suma)/U[ix,ix]     \n",
    "    return(xs)    "
   ]
  },
  {
   "cell_type": "code",
   "execution_count": 55,
   "metadata": {},
   "outputs": [],
   "source": [
    "def gaussElimin(A,b):\n",
    "    # renombrando\n",
    "    A1=A.copy(); b1=b.copy()\n",
    "    # dimension de la matriz\n",
    "    n = len(b1) \n",
    "# fase de eliminación\n",
    "# # i: filas ; j: columnas\n",
    "#------- FASE DE ELIMINACIÓN -------------#  \n",
    "  # se inicia con las columnas\n",
    "    for j in range(0,n-1):\n",
    "        for i in range(j+1,n):\n",
    "            # condicion del pivote diferente de cero \n",
    "            # A[i,j] -> fila posterior a la primera fila\n",
    "           if A1[i,j]!= 0.0:\n",
    "               factor = A1[i,j]/A1[j,j] # A[j,j]-> diagonal pivote\n",
    "               # F2 = F2 - factor*F1\n",
    "#               A[i,(j+1):n] = A[i,(j+1):n] - factor*A[j,(j+1):n]\n",
    "               A1[i,j:n] = A1[i,j:n] - factor*A1[j,j:n]      \n",
    "              # operación sobre el vector b\n",
    "               b1[i] = b1[i] - factor*b1[j]\n",
    "    print(\"--------------------------------\")               \n",
    "    print(\"eliminacion hacia adelante -> MATRIZ - U  \")               \n",
    "    print(A1)\n",
    "#    print(b1)\n",
    "#------- SUSTITUCIÓN HACIA ATRAS  -------------#    \n",
    "    xs=np.zeros(n) #-> vector solucion x's\n",
    "    xs[(n-1)]=b1[(n-1)]/A1[(n-1),(n-1)]\n",
    "    for ix in reversed(range(n-1)):\n",
    "        suma=0\n",
    "        for jx in range(ix,n):\n",
    "            suma = suma + A1[ix,jx]*xs[jx]\n",
    "        xs[ix]=(b1[ix]-suma)/A1[ix,ix]     \n",
    "    return(xs)"
   ]
  },
  {
   "cell_type": "code",
   "execution_count": 56,
   "metadata": {},
   "outputs": [
    {
     "name": "stdout",
     "output_type": "stream",
     "text": [
      "--------------------------------\n",
      "eliminacion hacia adelante -> MATRIZ - U  \n",
      "[[ -2.  -1.   0.   0.]\n",
      " [  0.   0.  -1.   1.]\n",
      " [  0.  nan -inf  inf]\n",
      " [  0.  nan  nan  nan]]\n"
     ]
    },
    {
     "name": "stderr",
     "output_type": "stream",
     "text": [
      "C:\\Users\\MIPC~1\\AppData\\Local\\Temp/ipykernel_10440/3418685383.py:15: RuntimeWarning: divide by zero encountered in double_scalars\n",
      "  factor = A1[i,j]/A1[j,j] # A[j,j]-> diagonal pivote\n",
      "C:\\Users\\MIPC~1\\AppData\\Local\\Temp/ipykernel_10440/3418685383.py:18: RuntimeWarning: invalid value encountered in multiply\n",
      "  A1[i,j:n] = A1[i,j:n] - factor*A1[j,j:n]\n",
      "C:\\Users\\MIPC~1\\AppData\\Local\\Temp/ipykernel_10440/3418685383.py:20: RuntimeWarning: invalid value encountered in multiply\n",
      "  b1[i] = b1[i] - factor*b1[j]\n",
      "C:\\Users\\MIPC~1\\AppData\\Local\\Temp/ipykernel_10440/3418685383.py:15: RuntimeWarning: invalid value encountered in double_scalars\n",
      "  factor = A1[i,j]/A1[j,j] # A[j,j]-> diagonal pivote\n",
      "C:\\Users\\MIPC~1\\AppData\\Local\\Temp/ipykernel_10440/3418685383.py:31: RuntimeWarning: invalid value encountered in double_scalars\n",
      "  suma = suma + A1[ix,jx]*xs[jx]\n"
     ]
    },
    {
     "data": {
      "text/plain": [
       "array([nan, nan, nan, nan])"
      ]
     },
     "execution_count": 56,
     "metadata": {},
     "output_type": "execute_result"
    }
   ],
   "source": [
    "gaussElimin(A,b)"
   ]
  },
  {
   "cell_type": "code",
   "execution_count": 57,
   "metadata": {},
   "outputs": [
    {
     "name": "stdout",
     "output_type": "stream",
     "text": [
      "--------------------------------\n",
      "matriz triangular inferior --> L\n",
      "[[ 1.   0.   0.   0. ]\n",
      " [ 0.   1.   0.   0. ]\n",
      " [ 0.  -inf  1.   0. ]\n",
      " [ 0.5  inf  nan  1. ]]\n",
      "--------------------------------\n",
      "matriz triangular superior --> U\n",
      "[[ -2.  -1.   0.   0.]\n",
      " [  0.   0.  -1.   1.]\n",
      " [  0.  nan -inf  inf]\n",
      " [  0.  nan  nan  nan]]\n",
      "--------------------------------\n",
      "verificacion --> A=LU\n",
      "[[-2. nan nan nan]\n",
      " [ 0. nan nan nan]\n",
      " [nan nan nan nan]\n",
      " [nan nan nan nan]]\n"
     ]
    },
    {
     "name": "stderr",
     "output_type": "stream",
     "text": [
      "C:\\Users\\MIPC~1\\AppData\\Local\\Temp/ipykernel_10440/1189713513.py:22: RuntimeWarning: divide by zero encountered in double_scalars\n",
      "  factor = A1[i,j]/A1[j,j] # A[j,j]-> diagonal pivote\n",
      "C:\\Users\\MIPC~1\\AppData\\Local\\Temp/ipykernel_10440/1189713513.py:25: RuntimeWarning: invalid value encountered in multiply\n",
      "  A1[i,j:n] = A1[i,j:n] - factor*A1[j,j:n]\n",
      "C:\\Users\\MIPC~1\\AppData\\Local\\Temp/ipykernel_10440/1189713513.py:22: RuntimeWarning: invalid value encountered in double_scalars\n",
      "  factor = A1[i,j]/A1[j,j] # A[j,j]-> diagonal pivote\n",
      "C:\\Users\\MIPC~1\\AppData\\Local\\Temp/ipykernel_10440/1189713513.py:37: RuntimeWarning: invalid value encountered in matmul\n",
      "  print(L@U)\n",
      "C:\\Users\\MIPC~1\\AppData\\Local\\Temp/ipykernel_10440/1189713513.py:45: RuntimeWarning: invalid value encountered in double_scalars\n",
      "  suma = suma + L[ix,jx]*ys[jx]\n",
      "C:\\Users\\MIPC~1\\AppData\\Local\\Temp/ipykernel_10440/1189713513.py:55: RuntimeWarning: invalid value encountered in double_scalars\n",
      "  suma = suma + U[ix,jx]*xs[jx]\n"
     ]
    },
    {
     "data": {
      "text/plain": [
       "array([nan, nan, nan, nan])"
      ]
     },
     "execution_count": 57,
     "metadata": {},
     "output_type": "execute_result"
    }
   ],
   "source": [
    "LU_gauss_sistem(A,b)"
   ]
  },
  {
   "cell_type": "markdown",
   "metadata": {},
   "source": [
    "# ejercicio 4"
   ]
  },
  {
   "cell_type": "markdown",
   "metadata": {},
   "source": [
    "Halle la solución del sistema (5 puntos)\n"
   ]
  },
  {
   "cell_type": "markdown",
   "metadata": {},
   "source": [
    "\\begin{equation}\n",
    "\\begin{bmatrix}\n",
    "16 & 2 & -3\\\\\n",
    "23 & 42 & -4\\\\\n",
    "5 & -9 & 32\n",
    "\\end{bmatrix}\n",
    "\\quad\n",
    "\\begin{bmatrix}\n",
    "x_{1} \\\\\n",
    "x_{2} \\\\\n",
    "x_{3}\n",
    "\\end{bmatrix}\n",
    "=\\begin{bmatrix}\n",
    "34 \\\\\n",
    "88 \\\\\n",
    "1\n",
    "\\end{bmatrix}\n",
    "\\end{equation}"
   ]
  },
  {
   "cell_type": "markdown",
   "metadata": {},
   "source": [
    "Usando el método de Gauss-Seidel, considerando como punto inicial [0,0,0], con una tolerancia de $10^{7}$ y con un máximo de 50 iteraciones"
   ]
  },
  {
   "cell_type": "code",
   "execution_count": 58,
   "metadata": {},
   "outputs": [],
   "source": [
    "#%%\n",
    "from math import *\n",
    "import numpy as np\n",
    "from numpy.linalg import inv\n",
    "#----------------------------------------#\n",
    "#%%\n",
    "# A : MATRIZ DEL SISTEMA\n",
    "def diagdomin(A):\n",
    "    aii  = abs(np.diag(A))\n",
    "    aux = np.sum( abs( A-np.diag(np.diag(A)) ),axis=1 )\n",
    "    if np.all(aii > aux): \n",
    "        print(\"es diagonal dominante\")\n",
    "    else:\n",
    "        print(\"no es diagonal dominante\")\n",
    "    return\n",
    "# norma infinito de un vector\n",
    "def infvector(x):\n",
    "    norma=max(abs(x))\n",
    "    return(norma)"
   ]
  },
  {
   "cell_type": "code",
   "execution_count": 59,
   "metadata": {},
   "outputs": [],
   "source": [
    "#%%\n",
    "# A : MATRIZ DE COEFICIENTES\n",
    "# b: VECTOR b\n",
    "# N: NUMERO DE ITERACIONES MAXIMAS\n",
    "# x0: VECTOR INICIAL\n",
    "# tol: TOLERANCIA    \n",
    "# np.tril(A) = L + D\n",
    "# np.triu(A,1) = U, con ceros en la diagonal    \n",
    "def gauss_seidel_sis(A,b,N,x0,tol):\n",
    "    LDinv=inv(np.tril(A))\n",
    "    U = np.triu(A,1)\n",
    "    print(\"iter\")\n",
    "    for i in range(1,N):\n",
    "        xk  = - np.dot( LDinv, np.dot(U,x0)) + np.dot(LDinv,b)\n",
    "        ERA = infvector(xk-x0)\n",
    "        x0=xk\n",
    "        print(i,\" | \",xk,\" | \",ERA,\" | \")\n",
    "        if(ERA<tol):\n",
    "            break\n",
    "    return(xk)"
   ]
  },
  {
   "cell_type": "code",
   "execution_count": 62,
   "metadata": {},
   "outputs": [],
   "source": [
    "# matriz de coeficientes\n",
    "A=np.array( [[16.0,2,-3], [23.0, 42, -4,], [5.0,-9,32]] )\n",
    "# vector b\n",
    "b=np.array([ 34.0, 88, 1 ])\n",
    "# Numero de iteraciones\n",
    "N=50\n",
    "# vector inicial (vector solucion aproximado) \n",
    "x0=np.array([0.0, 0, 0 ])\n",
    "# tolerancia\n",
    "tol=10**(-7)  "
   ]
  },
  {
   "cell_type": "code",
   "execution_count": 63,
   "metadata": {},
   "outputs": [
    {
     "name": "stdout",
     "output_type": "stream",
     "text": [
      "es diagonal dominante\n",
      "iter\n",
      "1  |  [ 2.125       0.93154762 -0.03878348]  |  2.1250000000000004  | \n",
      "2  |  [ 2.00128464e+00  9.95602839e-01 -1.43742724e-03]  |  0.12371535528273814  | \n",
      "3  |  [ 2.00028013e+00  9.99709699e-01 -1.25417076e-04]  |  0.0041068598938585055  | \n",
      "4  |  [ 2.00001277e+00  9.99981061e-01 -7.32210280e-06]  |  0.0002713623576170443  | \n",
      "5  |  [ 2.00000099e+00  9.99998758e-01 -5.04668850e-07]  |  1.7696716646975474e-05  | \n",
      "6  |  [ 2.00000006e+00  9.99999919e-01 -3.23244598e-08]  |  1.160657434495782e-06  | \n",
      "7  |  [ 2.00000000e+00  9.99999995e-01 -2.13678141e-09]  |  7.593529771643404e-08  | \n"
     ]
    },
    {
     "data": {
      "text/plain": [
       "array([34.00000006, 87.99999988,  1.        ])"
      ]
     },
     "execution_count": 63,
     "metadata": {},
     "output_type": "execute_result"
    }
   ],
   "source": [
    "# VERIFICAR QUE LA MATRIZ SEA ESTRICTAMENTE DIAGONAL DOMINANTE\n",
    "diagdomin(A)\n",
    "# APLICANDO EL METODO DE JACOBI (GAUSS-JACOBI)\n",
    "xsol=gauss_seidel_sis(A,b,N,x0,tol)\n",
    "xsol\n",
    "# VERIFICAR LA SOLUCION\n",
    "A.dot(xsol)"
   ]
  },
  {
   "cell_type": "code",
   "execution_count": null,
   "metadata": {},
   "outputs": [],
   "source": []
  }
 ],
 "metadata": {
  "kernelspec": {
   "display_name": "Python 3 (ipykernel)",
   "language": "python",
   "name": "python3"
  },
  "language_info": {
   "codemirror_mode": {
    "name": "ipython",
    "version": 3
   },
   "file_extension": ".py",
   "mimetype": "text/x-python",
   "name": "python",
   "nbconvert_exporter": "python",
   "pygments_lexer": "ipython3",
   "version": "3.9.4"
  }
 },
 "nbformat": 4,
 "nbformat_minor": 4
}
