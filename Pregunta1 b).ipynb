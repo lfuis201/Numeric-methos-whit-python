{
 "cells": [
  {
   "cell_type": "markdown",
   "metadata": {},
   "source": [
    "\n",
    "\n",
    "La velocidad v de un paracaidista que cae está dada por $ v = \\frac{gm}{c}(1-e^{-(c/m)t}) $\n",
    "\n",
    "donde g = 9.81 m/s2. Para un paracaidista con coeficiente de resistencia de c =15 kg/s. Calcule\n",
    "la masa m de modo que la velocidad sea v=35.7 m/s en t= 10 s, usando el método\n",
    "\n",
    "\n",
    "b) de falsa posición hasta que ERA < 0.001 % con un máximo de 80 iteraciones\n",
    "Haga un gráfico de la función no lineal a obtener la raíz. Use Python.\n",
    "Considere como intervalo inicial I0 = [59, 60]"
   ]
  },
  {
   "cell_type": "markdown",
   "metadata": {},
   "source": [
    "$f(x)=\\frac{9.81}{15}m(1-e^{-\\frac{150}{m}})-35.7=0$"
   ]
  },
  {
   "cell_type": "code",
   "execution_count": 33,
   "metadata": {},
   "outputs": [],
   "source": [
    "from math import *\n",
    "import numpy as np\n",
    "# libreria para graficos\n",
    "import matplotlib.pyplot as plt"
   ]
  },
  {
   "cell_type": "markdown",
   "metadata": {},
   "source": [
    "Se define las funciones "
   ]
  },
  {
   "cell_type": "code",
   "execution_count": 73,
   "metadata": {},
   "outputs": [],
   "source": [
    "\n",
    "def f4(x):\n",
    "    exp=1/pow(2.71828,150/x)\n",
    "    ec=0.654*x*(1-exp)\n",
    "    aux=ec-35.7\n",
    "    return aux\n",
    "\n"
   ]
  },
  {
   "cell_type": "markdown",
   "metadata": {},
   "source": [
    "Lineas abajo se presenta el metodo de la falsa posicion "
   ]
  },
  {
   "cell_type": "code",
   "execution_count": 60,
   "metadata": {},
   "outputs": [],
   "source": [
    "#=====================#\n",
    "# a: limite inferior del intervalo\n",
    "# b: limete superior  del intervalo\n",
    "# fx: función a obtener la raiz\n",
    "# nk: número de iteraciones    \n",
    "# tol: tolerancia (en %)\n",
    "# ERA: error relativo aproximado    \n",
    "\n",
    "def falsa_posi(a,b,fx,nk,tol):\n",
    "    print(\"iter\",\"a\",\" \",\"b\",\" \", \"xi\",\" \",\"f(ck)\",\" \", \"E_RA\")\n",
    "    x0 = b\n",
    "    for i in range(0,nk):\n",
    "        xi = (a*fx(b) - b*fx(a))/(fx(b) - fx(a))\n",
    "        ERA = 100*abs(xi - x0)/abs(xi) # error relativo aproximado\n",
    "        print(i+1,\" \",round(a,6),\" \",round(b,6),\" \",round(xi,6),\" \", \n",
    "              abs(round(fx(xi),7)),\" \",round(ERA,5))        \n",
    "        if(fx(a)*fx(xi)<0):\n",
    "            b=xi\n",
    "        else: a=xi\n",
    "        x0=xi\n",
    "        if(ERA<tol):\n",
    "            break\n",
    "    aux = fx(xi)\n",
    "    return(xi,aux)"
   ]
  },
  {
   "cell_type": "code",
   "execution_count": 72,
   "metadata": {},
   "outputs": [
    {
     "name": "stdout",
     "output_type": "stream",
     "text": [
      "iter a   b   xi   f(ck)   E_RA\n",
      "1   59   60   59.319744   0.0006109   1.14676\n",
      "2   59   59.319744   59.318447   1.2e-06   0.00219\n",
      "3   59   59.318447   59.318444   0.0   0.0\n"
     ]
    },
    {
     "data": {
      "text/plain": [
       "(59.31844436171002, 2.2129995613795472e-09)"
      ]
     },
     "execution_count": 72,
     "metadata": {},
     "output_type": "execute_result"
    }
   ],
   "source": [
    "falsa_posi(59, 60, f4, 80, 0.001)"
   ]
  },
  {
   "cell_type": "code",
   "execution_count": null,
   "metadata": {},
   "outputs": [],
   "source": []
  }
 ],
 "metadata": {
  "kernelspec": {
   "display_name": "Python 3 (ipykernel)",
   "language": "python",
   "name": "python3"
  },
  "language_info": {
   "codemirror_mode": {
    "name": "ipython",
    "version": 3
   },
   "file_extension": ".py",
   "mimetype": "text/x-python",
   "name": "python",
   "nbconvert_exporter": "python",
   "pygments_lexer": "ipython3",
   "version": "3.9.4"
  }
 },
 "nbformat": 4,
 "nbformat_minor": 4
}
