{
 "cells": [
  {
   "cell_type": "markdown",
   "metadata": {},
   "source": [
    "Encuentre la primera raíz positiva de (5P)\n",
    "\n",
    "$f(x) = sin(x) − cos(1 + x2) − 1$\n",
    "\n",
    "\n",
    "en que x está en radianes. Para encontrar la raíz use el método\n",
    "\n",
    "\n",
    "a) de Newton-Raphson, con x0 = 0.5, con una tolerancia de ERA < 0.001 %"
   ]
  },
  {
   "cell_type": "code",
   "execution_count": 1,
   "metadata": {},
   "outputs": [],
   "source": [
    "from math import *\n",
    "import numpy as np"
   ]
  },
  {
   "cell_type": "code",
   "execution_count": 4,
   "metadata": {},
   "outputs": [],
   "source": [
    "def f1(x):\n",
    "    aux=sin(x) - cos(1+2*x)-1\n",
    "    return aux\n",
    "# derivada de la función fx(x)\n",
    "def df1x(x):\n",
    "    aux=cos(x) + 2*sin(1+2*x)\n",
    "    return aux"
   ]
  },
  {
   "cell_type": "code",
   "execution_count": 5,
   "metadata": {},
   "outputs": [],
   "source": [
    "# metodo de N-R\n",
    "# x0: raiz inicial (valor inicial)\n",
    "# Nmax: número de iteraciones máxima    \n",
    "# tol: tolerancia (ERA)\n",
    "# fx: función a encontrar la raíz     \n",
    "# dfx: derivada de la función fx    \n",
    "# NOTA: la función evaluada en la raíz aproximada, fx(xk),\n",
    "#       es mostrada en  valor absoluto\n",
    "def newtonr(x0,Nmax,tol,fx,dfx):\n",
    "    ERA = 100\n",
    "    iter = 0\n",
    "    print(\"iter\", \" \", \"xk\", \" \", \"fx(xk)\", \" \", \"EA\", \" \", \"ERA\" )\n",
    "    while(ERA>tol):\n",
    "        xk = x0 - ( fx(x0)/dfx(x0) )\n",
    "        iter= iter + 1\n",
    "        EA = abs(xk-x0)\n",
    "        ERA= 100*(EA/abs(xk))\n",
    "        x0 = xk\n",
    "        if(iter > Nmax):\n",
    "            return\n",
    "        print( iter,\" \",round(xk,7),\" \",round(abs(fx(xk)),8),\" \", round(EA,8), \n",
    "              \" \", round(ERA,8) ) \n",
    "    aux = abs(fx(xk))\n",
    "    return(xk,aux)        \n",
    "      \n",
    "#%%"
   ]
  },
  {
   "cell_type": "markdown",
   "metadata": {},
   "source": [
    "Ejecutando el codigo para la funcion anterior"
   ]
  },
  {
   "cell_type": "code",
   "execution_count": 7,
   "metadata": {},
   "outputs": [
    {
     "name": "stdout",
     "output_type": "stream",
     "text": [
      "iter   xk   fx(xk)   EA   ERA\n",
      "1   0.5387317   0.00168642   0.03873173   7.18942861\n",
      "2   0.5393786   5.1e-07   0.00064686   0.11992652\n",
      "3   0.5393788   0.0   2e-07   3.656e-05\n"
     ]
    },
    {
     "data": {
      "text/plain": [
       "(0.5393787885526591, 4.796163466380676e-14)"
      ]
     },
     "execution_count": 7,
     "metadata": {},
     "output_type": "execute_result"
    }
   ],
   "source": [
    "# punto inicial del ejemplo es x0 = 0.6\n",
    "# ERA < 0.01%\n",
    "newtonr(0.5,5,0.001,f1,df1x)   "
   ]
  },
  {
   "cell_type": "markdown",
   "metadata": {},
   "source": [
    "0.5393787885526591 radianes"
   ]
  }
 ],
 "metadata": {
  "kernelspec": {
   "display_name": "Python 3 (ipykernel)",
   "language": "python",
   "name": "python3"
  },
  "language_info": {
   "codemirror_mode": {
    "name": "ipython",
    "version": 3
   },
   "file_extension": ".py",
   "mimetype": "text/x-python",
   "name": "python",
   "nbconvert_exporter": "python",
   "pygments_lexer": "ipython3",
   "version": "3.9.4"
  }
 },
 "nbformat": 4,
 "nbformat_minor": 4
}
