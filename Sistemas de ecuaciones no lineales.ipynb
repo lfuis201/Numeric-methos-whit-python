{
 "cells": [
  {
   "cell_type": "markdown",
   "metadata": {},
   "source": [
    "# Metodo de Newton para un sistema de ecuaciones no linelaes"
   ]
  },
  {
   "cell_type": "markdown",
   "metadata": {},
   "source": [
    "Un sistema de ecuaciones no lineales \n",
    "\n",
    "\\begin{align}\n",
    "F(x_1,x_2, \\ldots,x_n) = \n",
    "\\left(\n",
    "\\begin{array}{c}\n",
    "f_1(x_1,x_2, \\ldots,x_n)\\\\\n",
    "f_2(x_1,x_2, \\ldots,x_n)\\\\\n",
    "\\vdots\\\\\n",
    "f_n(x_1,x_2, \\ldots,x_n)\\\\\n",
    "\\end{array}\n",
    "\\right)\n",
    "\\end{align}"
   ]
  },
  {
   "cell_type": "markdown",
   "metadata": {},
   "source": [
    "Para este sistema de ecuaciones no lineales se tiene que el metodo de Newton trabaja \n",
    "$$\n",
    "\\begin{align}\n",
    "{x}^{i} =  x^{(i-1)} - J^{-1}(x^{(i-1)}){\\bf F}\\left( {x}^{(i-1)} \\right)\n",
    "\\end{align}\n",
    "$$"
   ]
  },
  {
   "cell_type": "code",
   "execution_count": 4,
   "metadata": {},
   "outputs": [],
   "source": [
    "from math import *\n",
    "import numpy as np\n",
    "from numpy.linalg import inv\n",
    "from numpy.linalg import det"
   ]
  },
  {
   "cell_type": "markdown",
   "metadata": {},
   "source": [
    "Se define la norma infinito para vectores"
   ]
  },
  {
   "cell_type": "code",
   "execution_count": 5,
   "metadata": {},
   "outputs": [],
   "source": [
    "# NORMA INFINITO\n",
    "def infvector(x):\n",
    "    norma=max(abs(x))\n",
    "    return(norma)"
   ]
  },
  {
   "cell_type": "markdown",
   "metadata": {},
   "source": [
    "El codigo es "
   ]
  },
  {
   "cell_type": "code",
   "execution_count": 6,
   "metadata": {},
   "outputs": [],
   "source": [
    "#%%\n",
    "# METODO DE NEWTON-RAPHSON PARA SISTEMAS DE ECCUAIONES NO LINEALES    \n",
    "# Fx: Sistema de ecuaciones no lineales. Es un vector\n",
    "# JFx: Matriz jacobiana\n",
    "# x0 vector inicial \n",
    "# imax: iteraciones maximas\n",
    "# tol: tolerancia para la norma infinito\n",
    "#---------------------#\n",
    "def newton_jacob(Fx, JFx, x0, imax, tol):\n",
    "    EA=10\n",
    "    iter=0\n",
    "    print(\"itera\",\" xk\", \"error aprox\", \"verificacion\")\n",
    "    while(EA>tol):\n",
    "        xk = x0 - inv( JFx(x0)).dot(Fx(x0))\n",
    "        iter = iter + 1\n",
    "        difk = xk - x0\n",
    "        #print(difk)\n",
    "        EA = infvector(difk)\n",
    "        x0 = xk\n",
    "        if(iter>imax):\n",
    "            return\n",
    "        print( iter,\" | \",xk,\" | \",EA,\" | \", Fx(xk) )\n",
    "#        print(xk)\n",
    "#%%\n"
   ]
  },
  {
   "cell_type": "code",
   "execution_count": 8,
   "metadata": {},
   "outputs": [
    {
     "data": {
      "text/plain": [
       "array([[ 1.98496275, -1.        ,  0.        ],\n",
       "       [-1.        ,  1.98496275,  0.        ],\n",
       "       [ 0.        ,  0.        ,  0.        ]])"
      ]
     },
     "execution_count": 8,
     "metadata": {},
     "output_type": "execute_result"
    }
   ],
   "source": [
    "# VECTOR \n",
    "# función F(x,y,z) = ( f1(x,y,z), f2(x,y,z), f3(x,y,z) ) =  (0,0,0)\n",
    "def F_sis(xvec):\n",
    "    x=xvec[0] # x1\n",
    "    y=xvec[1] # x2\n",
    "    Fx = np.array([0.0, 0])\n",
    "    Fx[0] = 2*x -y + (1/9)*exp(-x) - 1\n",
    "    Fx[1] = -x + 2*y  + (1/9)*exp(-y)\n",
    "    return(Fx)\n",
    "#==============#\n",
    "# matriz jacobiana\n",
    "def Jxy(xvec):\n",
    "    x=xvec[0]\n",
    "    y=xvec[1]\n",
    "    jaco = np.zeros((3,3))\n",
    "    jaco[0,0] = 2 - (1/9)*exp(-x) # parcial f1 en x1\n",
    "    jaco[0,1] = -1 # parcial f1 en x2\n",
    "    jaco[1,0] = -1 # parcial f2 en x1\n",
    "    jaco[1,1] = 2 - (1/9)*exp(-y) #parcial f2 en x2\n",
    "    return(jaco)\n",
    "#=================#\n",
    "F_sis( np.array([2,2]) )\n",
    "Jxy( np.array([2,2]) )\n"
   ]
  },
  {
   "cell_type": "markdown",
   "metadata": {},
   "source": [
    "Ejecutando el programa, en que $x_{0}=(1,1)^\\top$ y una tol=0.0001"
   ]
  },
  {
   "cell_type": "code",
   "execution_count": 15,
   "metadata": {},
   "outputs": [
    {
     "name": "stdout",
     "output_type": "stream",
     "text": [
      "itera  xk error aprox verificacion\n",
      "1  |  [0.60504264 0.26710485]  |  0.7328951531799096  |  [0.00365278 0.01423292]\n",
      "2  |  [0.59722016 0.25558727]  |  0.011517578846626353  |  [1.86115795e-06 5.66391417e-06]\n",
      "3  |  [0.59721675 0.25558253]  |  4.737476825222853e-06  |  [3.54383189e-13 9.65588720e-13]\n",
      "4  |  [0.59721675 0.25558253]  |  8.213429936176908e-13  |  [0. 0.]\n"
     ]
    }
   ],
   "source": [
    "# punto inicial \n",
    "x0=np.array([1,1])\n",
    "tol=0.000001\n",
    "Nmax=80\n",
    "##\n",
    "newton_jacob(F_sis, Jxy, x0, Nmax, tol)"
   ]
  }
 ],
 "metadata": {
  "kernelspec": {
   "display_name": "Python 3 (ipykernel)",
   "language": "python",
   "name": "python3"
  },
  "language_info": {
   "codemirror_mode": {
    "name": "ipython",
    "version": 3
   },
   "file_extension": ".py",
   "mimetype": "text/x-python",
   "name": "python",
   "nbconvert_exporter": "python",
   "pygments_lexer": "ipython3",
   "version": "3.9.4"
  }
 },
 "nbformat": 4,
 "nbformat_minor": 4
}
