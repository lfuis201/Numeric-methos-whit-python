{
 "cells": [
  {
   "cell_type": "markdown",
   "id": "c43da42e",
   "metadata": {},
   "source": [
    "El algoritmo se desarrolla en un tramo en el intervalo  $[a,b]$  junto a la gráfica para mostrar el concepto. Para el ejemplo el integral buscado es:"
   ]
  },
  {
   "cell_type": "markdown",
   "id": "da439011",
   "metadata": {},
   "source": [
    "\\begin{equation}\n",
    "\\int_{1}^{3} \\sqrt{x}  sin(x) \\cdot dx\n",
    "\\end{equation}"
   ]
  },
  {
   "cell_type": "code",
   "execution_count": 1,
   "id": "03a07863",
   "metadata": {},
   "outputs": [
    {
     "name": "stdout",
     "output_type": "stream",
     "text": [
      "Integral:  2.0535771900286597\n"
     ]
    }
   ],
   "source": [
    "# Integración: Cuadratura de Gauss de dos puntos\n",
    "# modelo con varios tramos entre [a,b]\n",
    "import numpy as np\n",
    "import matplotlib.pyplot as plt\n",
    "\n",
    "# cuadratura de Gauss de dos puntos\n",
    "def integraCuadGauss2p(funcionx,a,b):\n",
    "    x0 = -1/np.sqrt(3)\n",
    "    x1 = -x0\n",
    "    xa = (b+a)/2 + (b-a)/2*(x0)\n",
    "    xb = (b+a)/2 + (b-a)/2*(x1)\n",
    "    area = ((b-a)/2)*(funcionx(xa) + funcionx(xb))\n",
    "    return(area)\n",
    "\n",
    "# INGRESO\n",
    "fx = lambda x: np.sqrt(x)*np.sin(x)\n",
    "\n",
    "# intervalo de integración\n",
    "a = 1\n",
    "b = 3\n",
    "tramos = 4\n",
    "\n",
    "# PROCEDIMIENTO\n",
    "muestras = tramos+1\n",
    "xi = np.linspace(a,b,muestras)\n",
    "area = 0\n",
    "for i in range(0,muestras-1,1):\n",
    "    deltaA = integraCuadGauss2p(fx,xi[i],xi[i+1])\n",
    "    area = area + deltaA\n",
    "# SALIDA\n",
    "print('Integral: ', area)"
   ]
  },
  {
   "cell_type": "code",
   "execution_count": 2,
   "id": "5d761d63",
   "metadata": {},
   "outputs": [
    {
     "data": {
      "image/png": "[encoded data removed]",
      "text/plain": [
       "<Figure size 432x288 with 1 Axes>"
      ]
     },
     "metadata": {
      "needs_background": "light"
     },
     "output_type": "display_data"
    }
   ],
   "source": [
    "# GRAFICAR por cada Segmento\n",
    "# para concepto con pocos segmentos\n",
    "x0 = -1/np.sqrt(3) \n",
    "x1 = 1/np.sqrt(3)\n",
    "\n",
    "# arregos para gráficas\n",
    "xi = np.array([])\n",
    "fi = np.array([])\n",
    "\n",
    "xat = np.array([])\n",
    "xbt = np.array([])\n",
    "\n",
    "recta = np.array([])\n",
    "\n",
    "muestrastramo = 10\n",
    "subtramo = np.linspace(a,b,muestras)\n",
    "\n",
    "for i in range(0,tramos,1):\n",
    "    at = subtramo[i]\n",
    "    bt = subtramo[i+1]\n",
    "    \n",
    "    xit = np.linspace(at,bt,muestrastramo)\n",
    "    fit = fx(xit)\n",
    "    \n",
    "    xi = np.concatenate((xi,xit))\n",
    "    fi = np.concatenate((fi,fit))\n",
    "\n",
    "    # puntos xa y xb por tramo\n",
    "    xa = (bt+at)/2 + (bt-at)/2*(x0)\n",
    "    xb = (bt+at)/2 + (bt-at)/2*(x1)\n",
    "    \n",
    "    xat = np.concatenate((xat,[xa]))\n",
    "    xbt = np.concatenate((xbt,[xb]))\n",
    "    \n",
    "    # Recta entre puntos x0 y x1 por tramo\n",
    "    m = (fx(xb)-fx(xa))/(xb-xa)\n",
    "    b0 = fx(xa)- m*xa\n",
    "    linea = b0 + m*xit\n",
    "    recta = np.concatenate((recta,linea))\n",
    "\n",
    "# Marcadores 'o' de xa y xb por tramos\n",
    "puntox = np.concatenate((xat,xbt))\n",
    "puntoy = fx(puntox)\n",
    "\n",
    "# Graficando\n",
    "# Trazado de lineas\n",
    "plt.plot(xi,recta, label = 'grado 1', color = 'tab:orange')\n",
    "plt.fill_between(xi,0,recta, color='tab:olive')\n",
    "plt.plot(xi,fi, label='f(x)', color = 'blue')\n",
    "\n",
    "# Verticales para dividir los tramos\n",
    "for j in range(0,len(subtramo),1):\n",
    "    plt.axvline(subtramo[j], color='tab:gray')\n",
    "    \n",
    "# Marcadores de puntos xa y xb por tramos\n",
    "for j in range(0,len(xat),1):\n",
    "    plt.axvline(xat[j], color='w')\n",
    "    plt.axvline(xbt[j], color='w')\n",
    "    \n",
    "plt.plot(puntox,puntoy, 'o', color='g')\n",
    "\n",
    "plt.title('Integral: Cuadratura Gauss')\n",
    "plt.xlabel('x')\n",
    "plt.ylabel('f(x)')\n",
    "plt.legend()\n",
    "\n",
    "plt.show()"
   ]
  },
  {
   "cell_type": "code",
   "execution_count": null,
   "id": "8d83ad91",
   "metadata": {},
   "outputs": [],
   "source": []
  }
 ],
 "metadata": {
  "kernelspec": {
   "display_name": "Python 3 (ipykernel)",
   "language": "python",
   "name": "python3"
  },
  "language_info": {
   "codemirror_mode": {
    "name": "ipython",
    "version": 3
   },
   "file_extension": ".py",
   "mimetype": "text/x-python",
   "name": "python",
   "nbconvert_exporter": "python",
   "pygments_lexer": "ipython3",
   "version": "3.9.4"
  }
 },
 "nbformat": 4,
 "nbformat_minor": 5
}
